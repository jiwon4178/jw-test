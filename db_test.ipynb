{
 "cells": [
  {
   "cell_type": "code",
   "execution_count": 1,
   "metadata": {},
   "outputs": [],
   "source": [
    "# models에서 Post 가져와 \n",
    "from models import Post"
   ]
  },
  {
   "cell_type": "code",
   "execution_count": 12,
   "metadata": {},
   "outputs": [],
   "source": [
    "data = {\n",
    "    'title' : '테스트',\n",
    "    'content' : '내용테스트',\n",
    "    'writer' : '수민'\n",
    "}\n",
    "\n",
    "p = Post(title = data['title'], content = data['content'], writer = data['writer'])"
   ]
  },
  {
   "cell_type": "code",
   "execution_count": 13,
   "metadata": {},
   "outputs": [],
   "source": [
    "from database import SessionLocal \n",
    "db = SessionLocal()\n",
    "db.add(p)\n",
    "\n",
    "db.commit()"
   ]
  },
  {
   "cell_type": "markdown",
   "metadata": {},
   "source": [
    "### Update"
   ]
  },
  {
   "cell_type": "code",
   "execution_count": 14,
   "metadata": {},
   "outputs": [
    {
     "data": {
      "text/plain": [
       "<models.Post at 0x1f32260a0d0>"
      ]
     },
     "execution_count": 14,
     "metadata": {},
     "output_type": "execute_result"
    }
   ],
   "source": [
    "# 수정할 data 가져오기 \n",
    "up_data = db.query(Post).filter(Post.post_id == 1).all()[0]\n",
    "# 맨 뒤에 [0]붙이고 안붙이고 차이가 뭐지...? 붙여야 작동됨 \n",
    "up_data"
   ]
  },
  {
   "cell_type": "code",
   "execution_count": 15,
   "metadata": {},
   "outputs": [],
   "source": [
    "#content를 변경하기 \n",
    "#Create_실습진행중 _2번 -> update 실습한 content입니다. \n",
    "up_data.title = \"제목 테스트1234\"\n",
    "db.commit()"
   ]
  },
  {
   "cell_type": "code",
   "execution_count": null,
   "metadata": {},
   "outputs": [],
   "source": []
  }
 ],
 "metadata": {
  "kernelspec": {
   "display_name": "Python 3",
   "language": "python",
   "name": "python3"
  },
  "language_info": {
   "codemirror_mode": {
    "name": "ipython",
    "version": 3
   },
   "file_extension": ".py",
   "mimetype": "text/x-python",
   "name": "python",
   "nbconvert_exporter": "python",
   "pygments_lexer": "ipython3",
   "version": "3.11.5"
  }
 },
 "nbformat": 4,
 "nbformat_minor": 2
}
